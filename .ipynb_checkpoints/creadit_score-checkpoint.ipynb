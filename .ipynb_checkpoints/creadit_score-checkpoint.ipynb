{
 "cells": [
  {
   "cell_type": "code",
   "execution_count": 1,
   "metadata": {},
   "outputs": [],
   "source": [
    "import pandas as pd\n",
    "import numpy as np\n",
    "import matplotlib.pyplot as plt\n",
    "import seaborn as sns\n",
    "import plotly.offline as px\n",
    "import plotly.graph_objs as go\n",
    "import plotly.io as pio\n",
    "pio.templates.default = \"plotly_white\""
   ]
  },
  {
   "cell_type": "code",
   "execution_count": 2,
   "metadata": {},
   "outputs": [
    {
     "data": {
      "text/html": [
       "<div>\n",
       "<style scoped>\n",
       "    .dataframe tbody tr th:only-of-type {\n",
       "        vertical-align: middle;\n",
       "    }\n",
       "\n",
       "    .dataframe tbody tr th {\n",
       "        vertical-align: top;\n",
       "    }\n",
       "\n",
       "    .dataframe thead th {\n",
       "        text-align: right;\n",
       "    }\n",
       "</style>\n",
       "<table border=\"1\" class=\"dataframe\">\n",
       "  <thead>\n",
       "    <tr style=\"text-align: right;\">\n",
       "      <th></th>\n",
       "      <th>Age</th>\n",
       "      <th>Gender</th>\n",
       "      <th>Marital Status</th>\n",
       "      <th>Education Level</th>\n",
       "      <th>Employment Status</th>\n",
       "      <th>Credit Utilization Ratio</th>\n",
       "      <th>Payment History</th>\n",
       "      <th>Number of Credit Accounts</th>\n",
       "      <th>Loan Amount</th>\n",
       "      <th>Interest Rate</th>\n",
       "      <th>Loan Term</th>\n",
       "      <th>Type of Loan</th>\n",
       "    </tr>\n",
       "  </thead>\n",
       "  <tbody>\n",
       "    <tr>\n",
       "      <th>554</th>\n",
       "      <td>38</td>\n",
       "      <td>Female</td>\n",
       "      <td>Single</td>\n",
       "      <td>Bachelor</td>\n",
       "      <td>Unemployed</td>\n",
       "      <td>0.08</td>\n",
       "      <td>1200.0</td>\n",
       "      <td>1</td>\n",
       "      <td>4418000</td>\n",
       "      <td>18.96</td>\n",
       "      <td>36</td>\n",
       "      <td>Personal Loan</td>\n",
       "    </tr>\n",
       "    <tr>\n",
       "      <th>586</th>\n",
       "      <td>42</td>\n",
       "      <td>Male</td>\n",
       "      <td>Divorced</td>\n",
       "      <td>Bachelor</td>\n",
       "      <td>Unemployed</td>\n",
       "      <td>0.57</td>\n",
       "      <td>342.0</td>\n",
       "      <td>10</td>\n",
       "      <td>217000</td>\n",
       "      <td>11.05</td>\n",
       "      <td>24</td>\n",
       "      <td>Auto Loan</td>\n",
       "    </tr>\n",
       "    <tr>\n",
       "      <th>435</th>\n",
       "      <td>31</td>\n",
       "      <td>Male</td>\n",
       "      <td>Married</td>\n",
       "      <td>High School</td>\n",
       "      <td>Self-Employed</td>\n",
       "      <td>0.19</td>\n",
       "      <td>114.0</td>\n",
       "      <td>10</td>\n",
       "      <td>3360000</td>\n",
       "      <td>13.50</td>\n",
       "      <td>60</td>\n",
       "      <td>Home Loan</td>\n",
       "    </tr>\n",
       "    <tr>\n",
       "      <th>92</th>\n",
       "      <td>54</td>\n",
       "      <td>Male</td>\n",
       "      <td>Single</td>\n",
       "      <td>Master</td>\n",
       "      <td>Unemployed</td>\n",
       "      <td>0.75</td>\n",
       "      <td>942.0</td>\n",
       "      <td>10</td>\n",
       "      <td>3296000</td>\n",
       "      <td>16.63</td>\n",
       "      <td>36</td>\n",
       "      <td>Personal Loan</td>\n",
       "    </tr>\n",
       "    <tr>\n",
       "      <th>579</th>\n",
       "      <td>64</td>\n",
       "      <td>Female</td>\n",
       "      <td>Married</td>\n",
       "      <td>Master</td>\n",
       "      <td>Employed</td>\n",
       "      <td>0.01</td>\n",
       "      <td>1885.0</td>\n",
       "      <td>5</td>\n",
       "      <td>3229000</td>\n",
       "      <td>15.80</td>\n",
       "      <td>48</td>\n",
       "      <td>Auto Loan</td>\n",
       "    </tr>\n",
       "  </tbody>\n",
       "</table>\n",
       "</div>"
      ],
      "text/plain": [
       "     Age  Gender Marital Status Education Level Employment Status  \\\n",
       "554   38  Female         Single        Bachelor        Unemployed   \n",
       "586   42    Male       Divorced        Bachelor        Unemployed   \n",
       "435   31    Male        Married     High School     Self-Employed   \n",
       "92    54    Male         Single          Master        Unemployed   \n",
       "579   64  Female        Married          Master          Employed   \n",
       "\n",
       "     Credit Utilization Ratio  Payment History  Number of Credit Accounts  \\\n",
       "554                      0.08           1200.0                          1   \n",
       "586                      0.57            342.0                         10   \n",
       "435                      0.19            114.0                         10   \n",
       "92                       0.75            942.0                         10   \n",
       "579                      0.01           1885.0                          5   \n",
       "\n",
       "     Loan Amount  Interest Rate  Loan Term   Type of Loan  \n",
       "554      4418000          18.96         36  Personal Loan  \n",
       "586       217000          11.05         24      Auto Loan  \n",
       "435      3360000          13.50         60      Home Loan  \n",
       "92       3296000          16.63         36  Personal Loan  \n",
       "579      3229000          15.80         48      Auto Loan  "
      ]
     },
     "execution_count": 2,
     "metadata": {},
     "output_type": "execute_result"
    }
   ],
   "source": [
    "data = pd.read_csv('credit_scoring.csv')\n",
    "data.sample(5)"
   ]
  },
  {
   "cell_type": "code",
   "execution_count": 3,
   "metadata": {},
   "outputs": [
    {
     "name": "stderr",
     "output_type": "stream",
     "text": [
      "C:\\Users\\vishw\\anaconda3\\Lib\\site-packages\\numba\\core\\decorators.py:262: NumbaDeprecationWarning:\n",
      "\n",
      "\u001b[1mnumba.generated_jit is deprecated. Please see the documentation at: https://numba.readthedocs.io/en/stable/reference/deprecation.html#deprecation-of-generated-jit for more information and advice on a suitable replacement.\u001b[0m\n",
      "\n",
      "C:\\Users\\vishw\\anaconda3\\Lib\\site-packages\\visions\\backends\\shared\\nan_handling.py:50: NumbaDeprecationWarning:\n",
      "\n",
      "\u001b[1mThe 'nopython' keyword argument was not supplied to the 'numba.jit' decorator. The implicit default value for this argument is currently False, but it will be changed to True in Numba 0.59.0. See https://numba.readthedocs.io/en/stable/reference/deprecation.html#deprecation-of-object-mode-fall-back-behaviour-when-using-jit for details.\u001b[0m\n",
      "\n"
     ]
    }
   ],
   "source": [
    "import ydata_profiling as yp"
   ]
  },
  {
   "cell_type": "code",
   "execution_count": 7,
   "metadata": {},
   "outputs": [
    {
     "data": {
      "application/vnd.jupyter.widget-view+json": {
       "model_id": "eea820b60bf84535b1d5bd914d91fb18",
       "version_major": 2,
       "version_minor": 0
      },
      "text/plain": [
       "Summarize dataset:   0%|          | 0/5 [00:00<?, ?it/s]"
      ]
     },
     "metadata": {},
     "output_type": "display_data"
    },
    {
     "data": {
      "application/vnd.jupyter.widget-view+json": {
       "model_id": "f6ec22eb745b4552ab90dc3a0415103e",
       "version_major": 2,
       "version_minor": 0
      },
      "text/plain": [
       "Generate report structure:   0%|          | 0/1 [00:00<?, ?it/s]"
      ]
     },
     "metadata": {},
     "output_type": "display_data"
    },
    {
     "data": {
      "application/vnd.jupyter.widget-view+json": {
       "model_id": "65597d1a45ad42a8abb565c1e45893ea",
       "version_major": 2,
       "version_minor": 0
      },
      "text/plain": [
       "Render HTML:   0%|          | 0/1 [00:00<?, ?it/s]"
      ]
     },
     "metadata": {},
     "output_type": "display_data"
    },
    {
     "data": {
      "application/vnd.jupyter.widget-view+json": {
       "model_id": "a72f6795c686472baaac2241b64f13f3",
       "version_major": 2,
       "version_minor": 0
      },
      "text/plain": [
       "Export report to file:   0%|          | 0/1 [00:00<?, ?it/s]"
      ]
     },
     "metadata": {},
     "output_type": "display_data"
    }
   ],
   "source": [
    "profile_report = yp.ProfileReport(data)\n",
    "profile_report.to_file(output_file=\"output.html\")"
   ]
  },
  {
   "cell_type": "code",
   "execution_count": 4,
   "metadata": {},
   "outputs": [
    {
     "name": "stdout",
     "output_type": "stream",
     "text": [
      "<class 'pandas.core.frame.DataFrame'>\n",
      "RangeIndex: 1000 entries, 0 to 999\n",
      "Data columns (total 12 columns):\n",
      " #   Column                     Non-Null Count  Dtype  \n",
      "---  ------                     --------------  -----  \n",
      " 0   Age                        1000 non-null   int64  \n",
      " 1   Gender                     1000 non-null   object \n",
      " 2   Marital Status             1000 non-null   object \n",
      " 3   Education Level            1000 non-null   object \n",
      " 4   Employment Status          1000 non-null   object \n",
      " 5   Credit Utilization Ratio   1000 non-null   float64\n",
      " 6   Payment History            1000 non-null   float64\n",
      " 7   Number of Credit Accounts  1000 non-null   int64  \n",
      " 8   Loan Amount                1000 non-null   int64  \n",
      " 9   Interest Rate              1000 non-null   float64\n",
      " 10  Loan Term                  1000 non-null   int64  \n",
      " 11  Type of Loan               1000 non-null   object \n",
      "dtypes: float64(3), int64(4), object(5)\n",
      "memory usage: 93.9+ KB\n"
     ]
    }
   ],
   "source": [
    "data.info()"
   ]
  },
  {
   "cell_type": "code",
   "execution_count": 5,
   "metadata": {},
   "outputs": [
    {
     "data": {
      "text/html": [
       "<div>\n",
       "<style scoped>\n",
       "    .dataframe tbody tr th:only-of-type {\n",
       "        vertical-align: middle;\n",
       "    }\n",
       "\n",
       "    .dataframe tbody tr th {\n",
       "        vertical-align: top;\n",
       "    }\n",
       "\n",
       "    .dataframe thead th {\n",
       "        text-align: right;\n",
       "    }\n",
       "</style>\n",
       "<table border=\"1\" class=\"dataframe\">\n",
       "  <thead>\n",
       "    <tr style=\"text-align: right;\">\n",
       "      <th></th>\n",
       "      <th>Age</th>\n",
       "      <th>Credit Utilization Ratio</th>\n",
       "      <th>Payment History</th>\n",
       "      <th>Number of Credit Accounts</th>\n",
       "      <th>Loan Amount</th>\n",
       "      <th>Interest Rate</th>\n",
       "      <th>Loan Term</th>\n",
       "    </tr>\n",
       "  </thead>\n",
       "  <tbody>\n",
       "    <tr>\n",
       "      <th>count</th>\n",
       "      <td>1000.000000</td>\n",
       "      <td>1000.000000</td>\n",
       "      <td>1000.000000</td>\n",
       "      <td>1000.000000</td>\n",
       "      <td>1.000000e+03</td>\n",
       "      <td>1000.000000</td>\n",
       "      <td>1000.000000</td>\n",
       "    </tr>\n",
       "    <tr>\n",
       "      <th>mean</th>\n",
       "      <td>42.702000</td>\n",
       "      <td>0.509950</td>\n",
       "      <td>1452.814000</td>\n",
       "      <td>5.580000</td>\n",
       "      <td>2.471401e+06</td>\n",
       "      <td>10.686600</td>\n",
       "      <td>37.128000</td>\n",
       "    </tr>\n",
       "    <tr>\n",
       "      <th>std</th>\n",
       "      <td>13.266771</td>\n",
       "      <td>0.291057</td>\n",
       "      <td>827.934146</td>\n",
       "      <td>2.933634</td>\n",
       "      <td>1.387047e+06</td>\n",
       "      <td>5.479058</td>\n",
       "      <td>17.436274</td>\n",
       "    </tr>\n",
       "    <tr>\n",
       "      <th>min</th>\n",
       "      <td>20.000000</td>\n",
       "      <td>0.000000</td>\n",
       "      <td>0.000000</td>\n",
       "      <td>1.000000</td>\n",
       "      <td>1.080000e+05</td>\n",
       "      <td>1.010000</td>\n",
       "      <td>12.000000</td>\n",
       "    </tr>\n",
       "    <tr>\n",
       "      <th>25%</th>\n",
       "      <td>31.000000</td>\n",
       "      <td>0.250000</td>\n",
       "      <td>763.750000</td>\n",
       "      <td>3.000000</td>\n",
       "      <td>1.298000e+06</td>\n",
       "      <td>6.022500</td>\n",
       "      <td>24.000000</td>\n",
       "    </tr>\n",
       "    <tr>\n",
       "      <th>50%</th>\n",
       "      <td>42.000000</td>\n",
       "      <td>0.530000</td>\n",
       "      <td>1428.000000</td>\n",
       "      <td>6.000000</td>\n",
       "      <td>2.437500e+06</td>\n",
       "      <td>10.705000</td>\n",
       "      <td>36.000000</td>\n",
       "    </tr>\n",
       "    <tr>\n",
       "      <th>75%</th>\n",
       "      <td>54.000000</td>\n",
       "      <td>0.750000</td>\n",
       "      <td>2142.000000</td>\n",
       "      <td>8.000000</td>\n",
       "      <td>3.653250e+06</td>\n",
       "      <td>15.440000</td>\n",
       "      <td>48.000000</td>\n",
       "    </tr>\n",
       "    <tr>\n",
       "      <th>max</th>\n",
       "      <td>65.000000</td>\n",
       "      <td>1.000000</td>\n",
       "      <td>2857.000000</td>\n",
       "      <td>10.000000</td>\n",
       "      <td>4.996000e+06</td>\n",
       "      <td>19.990000</td>\n",
       "      <td>60.000000</td>\n",
       "    </tr>\n",
       "  </tbody>\n",
       "</table>\n",
       "</div>"
      ],
      "text/plain": [
       "               Age  Credit Utilization Ratio  Payment History  \\\n",
       "count  1000.000000               1000.000000      1000.000000   \n",
       "mean     42.702000                  0.509950      1452.814000   \n",
       "std      13.266771                  0.291057       827.934146   \n",
       "min      20.000000                  0.000000         0.000000   \n",
       "25%      31.000000                  0.250000       763.750000   \n",
       "50%      42.000000                  0.530000      1428.000000   \n",
       "75%      54.000000                  0.750000      2142.000000   \n",
       "max      65.000000                  1.000000      2857.000000   \n",
       "\n",
       "       Number of Credit Accounts   Loan Amount  Interest Rate    Loan Term  \n",
       "count                1000.000000  1.000000e+03    1000.000000  1000.000000  \n",
       "mean                    5.580000  2.471401e+06      10.686600    37.128000  \n",
       "std                     2.933634  1.387047e+06       5.479058    17.436274  \n",
       "min                     1.000000  1.080000e+05       1.010000    12.000000  \n",
       "25%                     3.000000  1.298000e+06       6.022500    24.000000  \n",
       "50%                     6.000000  2.437500e+06      10.705000    36.000000  \n",
       "75%                     8.000000  3.653250e+06      15.440000    48.000000  \n",
       "max                    10.000000  4.996000e+06      19.990000    60.000000  "
      ]
     },
     "execution_count": 5,
     "metadata": {},
     "output_type": "execute_result"
    }
   ],
   "source": [
    "data.describe()"
   ]
  },
  {
   "cell_type": "code",
   "execution_count": 7,
   "metadata": {},
   "outputs": [],
   "source": [
    "sns.set(style=\"whitegrid\")\n"
   ]
  },
  {
   "cell_type": "code",
   "execution_count": 8,
   "metadata": {},
   "outputs": [
    {
     "data": {
      "image/png": "[encoded data removed]",
      "text/plain": [
       "<Figure size 1000x600 with 1 Axes>"
      ]
     },
     "metadata": {},
     "output_type": "display_data"
    }
   ],
   "source": [
    "plt.figure(figsize=(10, 6))\n",
    "sns.boxplot(data=data)\n",
    "plt.title('Box Plot of All Columns')\n",
    "plt.show()"
   ]
  },
  {
   "cell_type": "code",
   "execution_count": null,
   "metadata": {},
   "outputs": [],
   "source": []
  }
 ],
 "metadata": {
  "kernelspec": {
   "display_name": "Python 3 (ipykernel)",
   "language": "python",
   "name": "python3"
  },
  "language_info": {
   "codemirror_mode": {
    "name": "ipython",
    "version": 3
   },
   "file_extension": ".py",
   "mimetype": "text/x-python",
   "name": "python",
   "nbconvert_exporter": "python",
   "pygments_lexer": "ipython3",
   "version": "3.11.3"
  }
 },
 "nbformat": 4,
 "nbformat_minor": 2
}
